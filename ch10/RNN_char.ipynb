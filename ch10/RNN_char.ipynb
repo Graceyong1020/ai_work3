{
 "cells": [
  {
   "cell_type": "code",
   "execution_count": 1,
   "metadata": {},
   "outputs": [],
   "source": [
    "import torch\n",
    "import torch.nn as nn   \n",
    "import torch.optim as optim\n",
    "import numpy as np"
   ]
  },
  {
   "cell_type": "markdown",
   "metadata": {},
   "source": [
    "'apple!' : input_data => apple apple, output_data ==> pple! "
   ]
  },
  {
   "cell_type": "code",
   "execution_count": 5,
   "metadata": {},
   "outputs": [
    {
     "name": "stdout",
     "output_type": "stream",
     "text": [
      "['!', 'a', 'e', 'l', 'p']\n",
      "5\n"
     ]
    }
   ],
   "source": [
    "input_str='apple'\n",
    "label_str='pple!' # 맨 마지막 글자인 '!'는 예측할 필요가 없으므로 잘라냄\n",
    "char_set=sorted(list(set(input_str+label_str))) # input과 label을 합쳐서 중복을 제거한 문자 집합 생성\n",
    "print(char_set) # 문자 코드 순서로 출력 \n",
    "char_set_size=len(char_set)\n",
    "print(char_set_size)"
   ]
  },
  {
   "cell_type": "code",
   "execution_count": 6,
   "metadata": {},
   "outputs": [],
   "source": [
    "input_size=5 # one-hot size\n",
    "hidden_size=5 # output from the LSTM. 5 to directly predict one-hot\n",
    "output_size=5  # final output size (RNN or softmax의 결과로 나오는 output size) \n",
    "learning_rate=0.1 # learning rate means how much the model learns in each step "
   ]
  },
  {
   "cell_type": "code",
   "execution_count": 7,
   "metadata": {},
   "outputs": [
    {
     "name": "stdout",
     "output_type": "stream",
     "text": [
      "{'!': 0, 'a': 1, 'e': 2, 'l': 3, 'p': 4}\n"
     ]
    }
   ],
   "source": [
    "char_to_index=dict((c,i) for i, c in enumerate(char_set)) # 문자 집합에 대해 index를 부여 (key: 문자, value: index)\n",
    "\n",
    "\"\"\" char_list=[c for c in char_set] # list comprehension을 이용하여 문자 집합에 대해 index를 부여\n",
    "char_list=[]\n",
    "for c in char_set:\n",
    "    char_list.append(c) \"\"\"\n",
    "\n",
    "print(char_to_index) "
   ]
  },
  {
   "cell_type": "code",
   "execution_count": 10,
   "metadata": {},
   "outputs": [
    {
     "data": {
      "text/plain": [
       "dict_keys(['!', 'a', 'e', 'l', 'p'])"
      ]
     },
     "execution_count": 10,
     "metadata": {},
     "output_type": "execute_result"
    }
   ],
   "source": [
    "char_to_index.items()\n",
    "char_to_index.values()\n",
    "char_to_index.keys()"
   ]
  },
  {
   "cell_type": "code",
   "execution_count": 11,
   "metadata": {},
   "outputs": [
    {
     "name": "stdout",
     "output_type": "stream",
     "text": [
      "{0: '!', 1: 'a', 2: 'e', 3: 'l', 4: 'p'}\n"
     ]
    }
   ],
   "source": [
    "# 참고 - 이런식으로도 가능\n",
    "\n",
    "index_to_char={}\n",
    "for key, value in char_to_index.items(): # key와 value를 바꿔 index to char를 생성\n",
    "    index_to_char[value]=key\n",
    "\n",
    "print(index_to_char)"
   ]
  },
  {
   "cell_type": "code",
   "execution_count": 12,
   "metadata": {},
   "outputs": [
    {
     "name": "stdout",
     "output_type": "stream",
     "text": [
      "[1, 4, 4, 3, 2]\n",
      "[4, 4, 3, 2, 0]\n"
     ]
    }
   ],
   "source": [
    "x_data=[char_to_index[c] for c in input_str] # x_data는 입력에 해당되는 문자들에 대한 index 값을 x -> apple\n",
    "y_data=[char_to_index[c] for c in label_str] # y_data는 출력에 해당되는 문자들에 대한 index -> pple! \n",
    "\n",
    "print(x_data)\n",
    "print(y_data)"
   ]
  },
  {
   "cell_type": "code",
   "execution_count": 14,
   "metadata": {},
   "outputs": [
    {
     "name": "stdout",
     "output_type": "stream",
     "text": [
      "[array([0., 1., 0., 0., 0.]), array([0., 0., 0., 0., 1.]), array([0., 0., 0., 0., 1.]), array([0., 0., 0., 1., 0.]), array([0., 0., 1., 0., 0.])]\n"
     ]
    }
   ],
   "source": [
    "x_one_hot=[np.eye(char_set_size)[x] for x in x_data] # char_set size만큼의 단위행렬을 만들고 x_data에 해당하는 index에만 1을 부여하여 one-hot 벡터를 생성\n",
    "#np.eye()는 단위행렬을 만들어주는 함수 \n",
    "# one_hot encoding은 단어 집합의 크기를 벡터의 차원으로 하고, 표현하고 싶은 단어의 인덱스에 1의 값을 부여하고, 다른 인덱스에는 0을 부여하는 단어의 벡터 표현 방식\n",
    "print(x_one_hot)\n",
    "\n",
    "# 결과값 -> apple\n"
   ]
  },
  {
   "cell_type": "code",
   "execution_count": 31,
   "metadata": {},
   "outputs": [
    {
     "name": "stdout",
     "output_type": "stream",
     "text": [
      "tensor([[[0., 1., 0., 0., 0.],\n",
      "         [0., 0., 0., 0., 1.],\n",
      "         [0., 0., 0., 0., 1.],\n",
      "         [0., 0., 0., 1., 0.],\n",
      "         [0., 0., 1., 0., 0.]]])\n",
      "tensor([[[[4, 4, 3, 2, 0]]]])\n"
     ]
    }
   ],
   "source": [
    "# 입력 데이터와 출력 데이터를 one-hot encoding으로 표현\n",
    "\n",
    "X=torch.FloatTensor(x_one_hot) # one-hot vector를 float tensor로 변환\n",
    "Y=torch.LongTensor(y_data) # CrossEntropyLoss를 사용하기 위해 Y를 long tensor로 변환\n",
    "\n",
    "\n",
    "\"\"\" x_data=[x_data]\n",
    "y_data=[y_data] \"\"\"\n",
    "\n",
    "# 차원을 하나 늘려줌 -> RNN은 3차원의 데이터를 입력으로 받음\n",
    "X = X.unsqueeze(0)  # (batch_size, sequence_length, input_size)\n",
    "Y = Y.unsqueeze(0)  # (batch_size, sequence_length)\n",
    "\n",
    "print(X)\n",
    "print(Y)"
   ]
  },
  {
   "cell_type": "code",
   "execution_count": 32,
   "metadata": {},
   "outputs": [
    {
     "name": "stdout",
     "output_type": "stream",
     "text": [
      "torch.Size([1, 5, 5]) torch.Size([1, 1, 1, 5])\n"
     ]
    }
   ],
   "source": [
    "# 크기 확인\n",
    "\n",
    "print(X.size(), Y.size())"
   ]
  },
  {
   "cell_type": "code",
   "execution_count": 33,
   "metadata": {},
   "outputs": [],
   "source": [
    "#nn.RNN(input_size, hidden_size, output_size)\n",
    "class Net (nn.Module):\n",
    "    def __init__(self, input_size, hidden_size, output_size): \n",
    "        super(Net, self).__init__() # nn.Module의 속성들을 가지고 초기화\n",
    "        self.rnn=nn.RNN(input_size=input_size, hidden_size=hidden_size, batch_first=True) # RNN 모듈을 사용\n",
    "        # batch_first= input 데이터의 첫번째 차원이 batch size임을 알려줌. batch size가 첫번째 차원이 아니라면 False로 설정\n",
    "        # batch size, sequence length, 특징 차원 순서로 데이터를 입력받음\n",
    "        # input 형태가 (32, 10, 50) 이라면 batch_first=True로 설정하면 (32, 10, 50)으로 입력받음 \n",
    "        self.fc=nn.Linear(hidden_size, output_size, bias=True)  # RNN의 output을 input으로 받아 output_size를 출력하는 linear layer를 생성\n",
    "\n",
    "    def forward(self, x): # forward 함수를 정의 -> forward는 모델을 학습할 때 데이터를 입력받아 forward 연산을 진행시키는 함수\n",
    "        x, _status=self.rnn(x) # RNN의 output과 hidden state를 반환\n",
    "        # RNN은 두 개의 output을 반환\n",
    "        x=self.fc(x)\n",
    "        return x\n"
   ]
  },
  {
   "cell_type": "code",
   "execution_count": 34,
   "metadata": {},
   "outputs": [],
   "source": [
    "model=Net(input_size, hidden_size, output_size) # model을 생성\n",
    "criterion=nn.CrossEntropyLoss() # CrossEntropyLoss를 사용\n",
    "optimizer=optim.Adam(model.parameters(), learning_rate) # Adam optimizer를 사용하는 이유는 gradient vanishing 문제를 해결하기 위함\n"
   ]
  },
  {
   "cell_type": "code",
   "execution_count": 38,
   "metadata": {},
   "outputs": [
    {
     "name": "stdout",
     "output_type": "stream",
     "text": [
      "tensor([[[-5.6223, -2.5521, -0.6362, -0.9109,  8.2659],\n",
      "         [-0.5237, -3.4187, -1.3396, -2.1159,  8.8873],\n",
      "         [-3.1835, -2.3699, -5.2704,  7.5547, -1.3268],\n",
      "         [ 0.9141, -1.7527,  9.9733, -4.6230,  1.3903],\n",
      "         [ 8.8309, -2.6418,  0.1092, -1.7210, -0.4378]]],\n",
      "       grad_fn=<ViewBackward0>)\n",
      "torch.Size([1, 5, 5])\n"
     ]
    }
   ],
   "source": [
    "output = model(X) # model에 X를 입력하여 output을 얻음 (X: apple)\n",
    "print(output) # output을 출력 -> 5개의 문자에 대한 예측값이 출력됨 \n",
    "print(output.size()) # output size를 출력 -> 4,4,3,2,0 (pple!)으로 출력되게 학습시켜야함 "
   ]
  },
  {
   "cell_type": "code",
   "execution_count": 44,
   "metadata": {},
   "outputs": [
    {
     "name": "stdout",
     "output_type": "stream",
     "text": [
      "[4 4 3 2 0]\n"
     ]
    }
   ],
   "source": [
    "result=output.data.numpy().argmax(axis=-1) # argmax 0은 batch size, 1은 sequence length, 2는 output size에 대해 argmax를 취함. 즉, output size에 대해 가장 큰 값의 index를 반환\n",
    "# 3차원에서 0:3차원, 1:열, 2:행 \n",
    "# argmax=1은 행 기준으로 가장 큰 값의 index를 반환\n",
    "# argmax=0은 3차원 텐서에서 가장 큰 값의 index를 반환. 즉, 0 \n",
    "print(np.squeeze(result)) # output에 대한 예측값을 출력\n",
    "# squeeze는 차원을 축소하는 함수 -> 3차원을 2차원으로 축소. 크기가 1인 차원을 제거 \n",
    "# unsqueeze는 차원을 늘리는 함수"
   ]
  },
  {
   "cell_type": "code",
   "execution_count": 48,
   "metadata": {},
   "outputs": [
    {
     "name": "stdout",
     "output_type": "stream",
     "text": [
      "0 loss:  4.6538149035768583e-05 prediction:  [[4 4 3 2 0]] pple! true: [[[4, 4, 3, 2, 0]]]\n",
      "1 loss:  4.644278669729829e-05 prediction:  [[4 4 3 2 0]] pple! true: [[[4, 4, 3, 2, 0]]]\n",
      "2 loss:  4.6371264033950865e-05 prediction:  [[4 4 3 2 0]] pple! true: [[[4, 4, 3, 2, 0]]]\n",
      "3 loss:  4.622821870725602e-05 prediction:  [[4 4 3 2 0]] pple! true: [[[4, 4, 3, 2, 0]]]\n",
      "4 loss:  4.6156696043908596e-05 prediction:  [[4 4 3 2 0]] pple! true: [[[4, 4, 3, 2, 0]]]\n",
      "5 loss:  4.608517338056117e-05 prediction:  [[4 4 3 2 0]] pple! true: [[[4, 4, 3, 2, 0]]]\n",
      "6 loss:  4.598981104209088e-05 prediction:  [[4 4 3 2 0]] pple! true: [[[4, 4, 3, 2, 0]]]\n",
      "7 loss:  4.589444870362058e-05 prediction:  [[4 4 3 2 0]] pple! true: [[[4, 4, 3, 2, 0]]]\n",
      "8 loss:  4.579908636515029e-05 prediction:  [[4 4 3 2 0]] pple! true: [[[4, 4, 3, 2, 0]]]\n",
      "9 loss:  4.5679880713578314e-05 prediction:  [[4 4 3 2 0]] pple! true: [[[4, 4, 3, 2, 0]]]\n",
      "10 loss:  4.560835805023089e-05 prediction:  [[4 4 3 2 0]] pple! true: [[[4, 4, 3, 2, 0]]]\n",
      "11 loss:  4.546531636151485e-05 prediction:  [[4 4 3 2 0]] pple! true: [[[4, 4, 3, 2, 0]]]\n",
      "12 loss:  4.5369954023044556e-05 prediction:  [[4 4 3 2 0]] pple! true: [[[4, 4, 3, 2, 0]]]\n",
      "13 loss:  4.534611070994288e-05 prediction:  [[4 4 3 2 0]] pple! true: [[[4, 4, 3, 2, 0]]]\n",
      "14 loss:  4.520306902122684e-05 prediction:  [[4 4 3 2 0]] pple! true: [[[4, 4, 3, 2, 0]]]\n",
      "15 loss:  4.513154271990061e-05 prediction:  [[4 4 3 2 0]] pple! true: [[[4, 4, 3, 2, 0]]]\n",
      "16 loss:  4.503618401940912e-05 prediction:  [[4 4 3 2 0]] pple! true: [[[4, 4, 3, 2, 0]]]\n",
      "17 loss:  4.49646613560617e-05 prediction:  [[4 4 3 2 0]] pple! true: [[[4, 4, 3, 2, 0]]]\n",
      "18 loss:  4.489313505473547e-05 prediction:  [[4 4 3 2 0]] pple! true: [[[4, 4, 3, 2, 0]]]\n",
      "19 loss:  4.4750097003998235e-05 prediction:  [[4 4 3 2 0]] pple! true: [[[4, 4, 3, 2, 0]]]\n",
      "20 loss:  4.4702414015773684e-05 prediction:  [[4 4 3 2 0]] pple! true: [[[4, 4, 3, 2, 0]]]\n",
      "21 loss:  4.460705167730339e-05 prediction:  [[4 4 3 2 0]] pple! true: [[[4, 4, 3, 2, 0]]]\n",
      "22 loss:  4.4511689338833094e-05 prediction:  [[4 4 3 2 0]] pple! true: [[[4, 4, 3, 2, 0]]]\n",
      "23 loss:  4.446400998858735e-05 prediction:  [[4 4 3 2 0]] pple! true: [[[4, 4, 3, 2, 0]]]\n",
      "24 loss:  4.4297121348790824e-05 prediction:  [[4 4 3 2 0]] pple! true: [[[4, 4, 3, 2, 0]]]\n",
      "25 loss:  4.424943836056627e-05 prediction:  [[4 4 3 2 0]] pple! true: [[[4, 4, 3, 2, 0]]]\n",
      "26 loss:  4.417791933519766e-05 prediction:  [[4 4 3 2 0]] pple! true: [[[4, 4, 3, 2, 0]]]\n",
      "27 loss:  4.405871732160449e-05 prediction:  [[4 4 3 2 0]] pple! true: [[[4, 4, 3, 2, 0]]]\n",
      "28 loss:  4.401103433337994e-05 prediction:  [[4 4 3 2 0]] pple! true: [[[4, 4, 3, 2, 0]]]\n",
      "29 loss:  4.391566471895203e-05 prediction:  [[4 4 3 2 0]] pple! true: [[[4, 4, 3, 2, 0]]]\n",
      "30 loss:  4.3844145693583414e-05 prediction:  [[4 4 3 2 0]] pple! true: [[[4, 4, 3, 2, 0]]]\n",
      "31 loss:  4.372494367999025e-05 prediction:  [[4 4 3 2 0]] pple! true: [[[4, 4, 3, 2, 0]]]\n",
      "32 loss:  4.3653421016642824e-05 prediction:  [[4 4 3 2 0]] pple! true: [[[4, 4, 3, 2, 0]]]\n",
      "33 loss:  4.355805504019372e-05 prediction:  [[4 4 3 2 0]] pple! true: [[[4, 4, 3, 2, 0]]]\n",
      "34 loss:  4.3510379327926785e-05 prediction:  [[4 4 3 2 0]] pple! true: [[[4, 4, 3, 2, 0]]]\n",
      "35 loss:  4.341501335147768e-05 prediction:  [[4 4 3 2 0]] pple! true: [[[4, 4, 3, 2, 0]]]\n",
      "36 loss:  4.329580769990571e-05 prediction:  [[4 4 3 2 0]] pple! true: [[[4, 4, 3, 2, 0]]]\n",
      "37 loss:  4.322428867453709e-05 prediction:  [[4 4 3 2 0]] pple! true: [[[4, 4, 3, 2, 0]]]\n",
      "38 loss:  4.31289263360668e-05 prediction:  [[4 4 3 2 0]] pple! true: [[[4, 4, 3, 2, 0]]]\n",
      "39 loss:  4.3057403672719374e-05 prediction:  [[4 4 3 2 0]] pple! true: [[[4, 4, 3, 2, 0]]]\n",
      "40 loss:  4.29381980211474e-05 prediction:  [[4 4 3 2 0]] pple! true: [[[4, 4, 3, 2, 0]]]\n",
      "41 loss:  4.2890518670901656e-05 prediction:  [[4 4 3 2 0]] pple! true: [[[4, 4, 3, 2, 0]]]\n",
      "42 loss:  4.277131665730849e-05 prediction:  [[4 4 3 2 0]] pple! true: [[[4, 4, 3, 2, 0]]]\n",
      "43 loss:  4.272363003110513e-05 prediction:  [[4 4 3 2 0]] pple! true: [[[4, 4, 3, 2, 0]]]\n",
      "44 loss:  4.262826405465603e-05 prediction:  [[4 4 3 2 0]] pple! true: [[[4, 4, 3, 2, 0]]]\n",
      "45 loss:  4.2532901716185734e-05 prediction:  [[4 4 3 2 0]] pple! true: [[[4, 4, 3, 2, 0]]]\n",
      "46 loss:  4.243753937771544e-05 prediction:  [[4 4 3 2 0]] pple! true: [[[4, 4, 3, 2, 0]]]\n",
      "47 loss:  4.2366016714368016e-05 prediction:  [[4 4 3 2 0]] pple! true: [[[4, 4, 3, 2, 0]]]\n",
      "48 loss:  4.22944976889994e-05 prediction:  [[4 4 3 2 0]] pple! true: [[[4, 4, 3, 2, 0]]]\n",
      "49 loss:  4.2199135350529104e-05 prediction:  [[4 4 3 2 0]] pple! true: [[[4, 4, 3, 2, 0]]]\n",
      "50 loss:  4.2151448724325746e-05 prediction:  [[4 4 3 2 0]] pple! true: [[[4, 4, 3, 2, 0]]]\n",
      "51 loss:  4.205609002383426e-05 prediction:  [[4 4 3 2 0]] pple! true: [[[4, 4, 3, 2, 0]]]\n",
      "52 loss:  4.1936884372262284e-05 prediction:  [[4 4 3 2 0]] pple! true: [[[4, 4, 3, 2, 0]]]\n",
      "53 loss:  4.188920502201654e-05 prediction:  [[4 4 3 2 0]] pple! true: [[[4, 4, 3, 2, 0]]]\n",
      "54 loss:  4.181768235866912e-05 prediction:  [[4 4 3 2 0]] pple! true: [[[4, 4, 3, 2, 0]]]\n",
      "55 loss:  4.167463703197427e-05 prediction:  [[4 4 3 2 0]] pple! true: [[[4, 4, 3, 2, 0]]]\n",
      "56 loss:  4.162695404374972e-05 prediction:  [[4 4 3 2 0]] pple! true: [[[4, 4, 3, 2, 0]]]\n",
      "57 loss:  4.1603118006605655e-05 prediction:  [[4 4 3 2 0]] pple! true: [[[4, 4, 3, 2, 0]]]\n",
      "58 loss:  4.143622572883032e-05 prediction:  [[4 4 3 2 0]] pple! true: [[[4, 4, 3, 2, 0]]]\n",
      "59 loss:  4.141238605370745e-05 prediction:  [[4 4 3 2 0]] pple! true: [[[4, 4, 3, 2, 0]]]\n",
      "60 loss:  4.1293184040114284e-05 prediction:  [[4 4 3 2 0]] pple! true: [[[4, 4, 3, 2, 0]]]\n",
      "61 loss:  4.124550105188973e-05 prediction:  [[4 4 3 2 0]] pple! true: [[[4, 4, 3, 2, 0]]]\n",
      "62 loss:  4.117397838854231e-05 prediction:  [[4 4 3 2 0]] pple! true: [[[4, 4, 3, 2, 0]]]\n",
      "63 loss:  4.107861241209321e-05 prediction:  [[4 4 3 2 0]] pple! true: [[[4, 4, 3, 2, 0]]]\n",
      "64 loss:  4.098325371160172e-05 prediction:  [[4 4 3 2 0]] pple! true: [[[4, 4, 3, 2, 0]]]\n",
      "65 loss:  4.095941403647885e-05 prediction:  [[4 4 3 2 0]] pple! true: [[[4, 4, 3, 2, 0]]]\n",
      "66 loss:  4.0864048060029745e-05 prediction:  [[4 4 3 2 0]] pple! true: [[[4, 4, 3, 2, 0]]]\n",
      "67 loss:  4.074484240845777e-05 prediction:  [[4 4 3 2 0]] pple! true: [[[4, 4, 3, 2, 0]]]\n",
      "68 loss:  4.067331974511035e-05 prediction:  [[4 4 3 2 0]] pple! true: [[[4, 4, 3, 2, 0]]]\n",
      "69 loss:  4.0625640394864604e-05 prediction:  [[4 4 3 2 0]] pple! true: [[[4, 4, 3, 2, 0]]]\n",
      "70 loss:  4.053027805639431e-05 prediction:  [[4 4 3 2 0]] pple! true: [[[4, 4, 3, 2, 0]]]\n",
      "71 loss:  4.0458755393046886e-05 prediction:  [[4 4 3 2 0]] pple! true: [[[4, 4, 3, 2, 0]]]\n",
      "72 loss:  4.0411072404822335e-05 prediction:  [[4 4 3 2 0]] pple! true: [[[4, 4, 3, 2, 0]]]\n",
      "73 loss:  4.031571006635204e-05 prediction:  [[4 4 3 2 0]] pple! true: [[[4, 4, 3, 2, 0]]]\n",
      "74 loss:  4.0196504414780065e-05 prediction:  [[4 4 3 2 0]] pple! true: [[[4, 4, 3, 2, 0]]]\n",
      "75 loss:  4.0172664739657193e-05 prediction:  [[4 4 3 2 0]] pple! true: [[[4, 4, 3, 2, 0]]]\n",
      "76 loss:  4.00773024011869e-05 prediction:  [[4 4 3 2 0]] pple! true: [[[4, 4, 3, 2, 0]]]\n",
      "77 loss:  3.9958096749614924e-05 prediction:  [[4 4 3 2 0]] pple! true: [[[4, 4, 3, 2, 0]]]\n",
      "78 loss:  3.991041376139037e-05 prediction:  [[4 4 3 2 0]] pple! true: [[[4, 4, 3, 2, 0]]]\n",
      "79 loss:  3.983889473602176e-05 prediction:  [[4 4 3 2 0]] pple! true: [[[4, 4, 3, 2, 0]]]\n",
      "80 loss:  3.9767372072674334e-05 prediction:  [[4 4 3 2 0]] pple! true: [[[4, 4, 3, 2, 0]]]\n",
      "81 loss:  3.971968908444978e-05 prediction:  [[4 4 3 2 0]] pple! true: [[[4, 4, 3, 2, 0]]]\n",
      "82 loss:  3.957664375775494e-05 prediction:  [[4 4 3 2 0]] pple! true: [[[4, 4, 3, 2, 0]]]\n",
      "83 loss:  3.9528960769530386e-05 prediction:  [[4 4 3 2 0]] pple! true: [[[4, 4, 3, 2, 0]]]\n",
      "84 loss:  3.945743810618296e-05 prediction:  [[4 4 3 2 0]] pple! true: [[[4, 4, 3, 2, 0]]]\n",
      "85 loss:  3.940975875593722e-05 prediction:  [[4 4 3 2 0]] pple! true: [[[4, 4, 3, 2, 0]]]\n",
      "86 loss:  3.9314392779488117e-05 prediction:  [[4 4 3 2 0]] pple! true: [[[4, 4, 3, 2, 0]]]\n",
      "87 loss:  3.921903044101782e-05 prediction:  [[4 4 3 2 0]] pple! true: [[[4, 4, 3, 2, 0]]]\n",
      "88 loss:  3.919518712791614e-05 prediction:  [[4 4 3 2 0]] pple! true: [[[4, 4, 3, 2, 0]]]\n",
      "89 loss:  3.909982478944585e-05 prediction:  [[4 4 3 2 0]] pple! true: [[[4, 4, 3, 2, 0]]]\n",
      "90 loss:  3.9028302126098424e-05 prediction:  [[4 4 3 2 0]] pple! true: [[[4, 4, 3, 2, 0]]]\n",
      "91 loss:  3.8956779462751e-05 prediction:  [[4 4 3 2 0]] pple! true: [[[4, 4, 3, 2, 0]]]\n",
      "92 loss:  3.8837577449157834e-05 prediction:  [[4 4 3 2 0]] pple! true: [[[4, 4, 3, 2, 0]]]\n",
      "93 loss:  3.8813734136056155e-05 prediction:  [[4 4 3 2 0]] pple! true: [[[4, 4, 3, 2, 0]]]\n",
      "94 loss:  3.871837543556467e-05 prediction:  [[4 4 3 2 0]] pple! true: [[[4, 4, 3, 2, 0]]]\n",
      "95 loss:  3.864684913423844e-05 prediction:  [[4 4 3 2 0]] pple! true: [[[4, 4, 3, 2, 0]]]\n",
      "96 loss:  3.8599166146013886e-05 prediction:  [[4 4 3 2 0]] pple! true: [[[4, 4, 3, 2, 0]]]\n",
      "97 loss:  3.855148679576814e-05 prediction:  [[4 4 3 2 0]] pple! true: [[[4, 4, 3, 2, 0]]]\n",
      "98 loss:  3.8408441469073296e-05 prediction:  [[4 4 3 2 0]] pple! true: [[[4, 4, 3, 2, 0]]]\n",
      "99 loss:  3.8360758480848745e-05 prediction:  [[4 4 3 2 0]] pple! true: [[[4, 4, 3, 2, 0]]]\n",
      "100 loss:  3.828923581750132e-05 prediction:  [[4 4 3 2 0]] pple! true: [[[4, 4, 3, 2, 0]]]\n",
      "101 loss:  3.82177131541539e-05 prediction:  [[4 4 3 2 0]] pple! true: [[[4, 4, 3, 2, 0]]]\n",
      "102 loss:  3.814619412878528e-05 prediction:  [[4 4 3 2 0]] pple! true: [[[4, 4, 3, 2, 0]]]\n",
      "103 loss:  3.807466782745905e-05 prediction:  [[4 4 3 2 0]] pple! true: [[[4, 4, 3, 2, 0]]]\n",
      "104 loss:  3.80269848392345e-05 prediction:  [[4 4 3 2 0]] pple! true: [[[4, 4, 3, 2, 0]]]\n",
      "105 loss:  3.7931622500764206e-05 prediction:  [[4 4 3 2 0]] pple! true: [[[4, 4, 3, 2, 0]]]\n",
      "106 loss:  3.7883939512539655e-05 prediction:  [[4 4 3 2 0]] pple! true: [[[4, 4, 3, 2, 0]]]\n",
      "107 loss:  3.783626016229391e-05 prediction:  [[4 4 3 2 0]] pple! true: [[[4, 4, 3, 2, 0]]]\n",
      "108 loss:  3.774089418584481e-05 prediction:  [[4 4 3 2 0]] pple! true: [[[4, 4, 3, 2, 0]]]\n",
      "109 loss:  3.7669371522497386e-05 prediction:  [[4 4 3 2 0]] pple! true: [[[4, 4, 3, 2, 0]]]\n",
      "110 loss:  3.762169217225164e-05 prediction:  [[4 4 3 2 0]] pple! true: [[[4, 4, 3, 2, 0]]]\n",
      "111 loss:  3.757400918402709e-05 prediction:  [[4 4 3 2 0]] pple! true: [[[4, 4, 3, 2, 0]]]\n",
      "112 loss:  3.747864320757799e-05 prediction:  [[4 4 3 2 0]] pple! true: [[[4, 4, 3, 2, 0]]]\n",
      "113 loss:  3.7383280869107693e-05 prediction:  [[4 4 3 2 0]] pple! true: [[[4, 4, 3, 2, 0]]]\n",
      "114 loss:  3.733559788088314e-05 prediction:  [[4 4 3 2 0]] pple! true: [[[4, 4, 3, 2, 0]]]\n",
      "115 loss:  3.721639950526878e-05 prediction:  [[4 4 3 2 0]] pple! true: [[[4, 4, 3, 2, 0]]]\n",
      "116 loss:  3.714487320394255e-05 prediction:  [[4 4 3 2 0]] pple! true: [[[4, 4, 3, 2, 0]]]\n",
      "117 loss:  3.7097190215718e-05 prediction:  [[4 4 3 2 0]] pple! true: [[[4, 4, 3, 2, 0]]]\n",
      "118 loss:  3.704950722749345e-05 prediction:  [[4 4 3 2 0]] pple! true: [[[4, 4, 3, 2, 0]]]\n",
      "119 loss:  3.693030521390028e-05 prediction:  [[4 4 3 2 0]] pple! true: [[[4, 4, 3, 2, 0]]]\n",
      "120 loss:  3.688262222567573e-05 prediction:  [[4 4 3 2 0]] pple! true: [[[4, 4, 3, 2, 0]]]\n",
      "121 loss:  3.683493923745118e-05 prediction:  [[4 4 3 2 0]] pple! true: [[[4, 4, 3, 2, 0]]]\n",
      "122 loss:  3.678725988720544e-05 prediction:  [[4 4 3 2 0]] pple! true: [[[4, 4, 3, 2, 0]]]\n",
      "123 loss:  3.6691893910756335e-05 prediction:  [[4 4 3 2 0]] pple! true: [[[4, 4, 3, 2, 0]]]\n",
      "124 loss:  3.664421456051059e-05 prediction:  [[4 4 3 2 0]] pple! true: [[[4, 4, 3, 2, 0]]]\n",
      "125 loss:  3.657269189716317e-05 prediction:  [[4 4 3 2 0]] pple! true: [[[4, 4, 3, 2, 0]]]\n",
      "126 loss:  3.6453486245591193e-05 prediction:  [[4 4 3 2 0]] pple! true: [[[4, 4, 3, 2, 0]]]\n",
      "127 loss:  3.6453486245591193e-05 prediction:  [[4 4 3 2 0]] pple! true: [[[4, 4, 3, 2, 0]]]\n",
      "128 loss:  3.63581239071209e-05 prediction:  [[4 4 3 2 0]] pple! true: [[[4, 4, 3, 2, 0]]]\n",
      "129 loss:  3.633428059401922e-05 prediction:  [[4 4 3 2 0]] pple! true: [[[4, 4, 3, 2, 0]]]\n",
      "130 loss:  3.6238918255548924e-05 prediction:  [[4 4 3 2 0]] pple! true: [[[4, 4, 3, 2, 0]]]\n",
      "131 loss:  3.61673955922015e-05 prediction:  [[4 4 3 2 0]] pple! true: [[[4, 4, 3, 2, 0]]]\n",
      "132 loss:  3.609587292885408e-05 prediction:  [[4 4 3 2 0]] pple! true: [[[4, 4, 3, 2, 0]]]\n",
      "133 loss:  3.604818994062953e-05 prediction:  [[4 4 3 2 0]] pple! true: [[[4, 4, 3, 2, 0]]]\n",
      "134 loss:  3.6000506952404976e-05 prediction:  [[4 4 3 2 0]] pple! true: [[[4, 4, 3, 2, 0]]]\n",
      "135 loss:  3.588130493881181e-05 prediction:  [[4 4 3 2 0]] pple! true: [[[4, 4, 3, 2, 0]]]\n",
      "136 loss:  3.585746526368894e-05 prediction:  [[4 4 3 2 0]] pple! true: [[[4, 4, 3, 2, 0]]]\n",
      "137 loss:  3.5785942600341514e-05 prediction:  [[4 4 3 2 0]] pple! true: [[[4, 4, 3, 2, 0]]]\n",
      "138 loss:  3.5714416299015284e-05 prediction:  [[4 4 3 2 0]] pple! true: [[[4, 4, 3, 2, 0]]]\n",
      "139 loss:  3.566673331079073e-05 prediction:  [[4 4 3 2 0]] pple! true: [[[4, 4, 3, 2, 0]]]\n",
      "140 loss:  3.561905032256618e-05 prediction:  [[4 4 3 2 0]] pple! true: [[[4, 4, 3, 2, 0]]]\n",
      "141 loss:  3.557136733434163e-05 prediction:  [[4 4 3 2 0]] pple! true: [[[4, 4, 3, 2, 0]]]\n",
      "142 loss:  3.542832564562559e-05 prediction:  [[4 4 3 2 0]] pple! true: [[[4, 4, 3, 2, 0]]]\n",
      "143 loss:  3.542832564562559e-05 prediction:  [[4 4 3 2 0]] pple! true: [[[4, 4, 3, 2, 0]]]\n",
      "144 loss:  3.538064629537985e-05 prediction:  [[4 4 3 2 0]] pple! true: [[[4, 4, 3, 2, 0]]]\n",
      "145 loss:  3.5285280318930745e-05 prediction:  [[4 4 3 2 0]] pple! true: [[[4, 4, 3, 2, 0]]]\n",
      "146 loss:  3.5237597330706194e-05 prediction:  [[4 4 3 2 0]] pple! true: [[[4, 4, 3, 2, 0]]]\n",
      "147 loss:  3.516607466735877e-05 prediction:  [[4 4 3 2 0]] pple! true: [[[4, 4, 3, 2, 0]]]\n",
      "148 loss:  3.511839167913422e-05 prediction:  [[4 4 3 2 0]] pple! true: [[[4, 4, 3, 2, 0]]]\n",
      "149 loss:  3.497534999041818e-05 prediction:  [[4 4 3 2 0]] pple! true: [[[4, 4, 3, 2, 0]]]\n",
      "150 loss:  3.497534999041818e-05 prediction:  [[4 4 3 2 0]] pple! true: [[[4, 4, 3, 2, 0]]]\n",
      "151 loss:  3.495151031529531e-05 prediction:  [[4 4 3 2 0]] pple! true: [[[4, 4, 3, 2, 0]]]\n",
      "152 loss:  3.48561407008674e-05 prediction:  [[4 4 3 2 0]] pple! true: [[[4, 4, 3, 2, 0]]]\n",
      "153 loss:  3.4760778362397105e-05 prediction:  [[4 4 3 2 0]] pple! true: [[[4, 4, 3, 2, 0]]]\n",
      "154 loss:  3.473693868727423e-05 prediction:  [[4 4 3 2 0]] pple! true: [[[4, 4, 3, 2, 0]]]\n",
      "155 loss:  3.466541602392681e-05 prediction:  [[4 4 3 2 0]] pple! true: [[[4, 4, 3, 2, 0]]]\n",
      "156 loss:  3.457005004747771e-05 prediction:  [[4 4 3 2 0]] pple! true: [[[4, 4, 3, 2, 0]]]\n",
      "157 loss:  3.452237069723196e-05 prediction:  [[4 4 3 2 0]] pple! true: [[[4, 4, 3, 2, 0]]]\n",
      "158 loss:  3.447468770900741e-05 prediction:  [[4 4 3 2 0]] pple! true: [[[4, 4, 3, 2, 0]]]\n",
      "159 loss:  3.437932537053712e-05 prediction:  [[4 4 3 2 0]] pple! true: [[[4, 4, 3, 2, 0]]]\n",
      "160 loss:  3.4331642382312566e-05 prediction:  [[4 4 3 2 0]] pple! true: [[[4, 4, 3, 2, 0]]]\n",
      "161 loss:  3.428395575610921e-05 prediction:  [[4 4 3 2 0]] pple! true: [[[4, 4, 3, 2, 0]]]\n",
      "162 loss:  3.421243673074059e-05 prediction:  [[4 4 3 2 0]] pple! true: [[[4, 4, 3, 2, 0]]]\n",
      "163 loss:  3.418859705561772e-05 prediction:  [[4 4 3 2 0]] pple! true: [[[4, 4, 3, 2, 0]]]\n",
      "164 loss:  3.411707075429149e-05 prediction:  [[4 4 3 2 0]] pple! true: [[[4, 4, 3, 2, 0]]]\n",
      "165 loss:  3.404554809094407e-05 prediction:  [[4 4 3 2 0]] pple! true: [[[4, 4, 3, 2, 0]]]\n",
      "166 loss:  3.395018575247377e-05 prediction:  [[4 4 3 2 0]] pple! true: [[[4, 4, 3, 2, 0]]]\n",
      "167 loss:  3.392634243937209e-05 prediction:  [[4 4 3 2 0]] pple! true: [[[4, 4, 3, 2, 0]]]\n",
      "168 loss:  3.387866308912635e-05 prediction:  [[4 4 3 2 0]] pple! true: [[[4, 4, 3, 2, 0]]]\n",
      "169 loss:  3.3807140425778925e-05 prediction:  [[4 4 3 2 0]] pple! true: [[[4, 4, 3, 2, 0]]]\n",
      "170 loss:  3.3735614124452695e-05 prediction:  [[4 4 3 2 0]] pple! true: [[[4, 4, 3, 2, 0]]]\n",
      "171 loss:  3.368793477420695e-05 prediction:  [[4 4 3 2 0]] pple! true: [[[4, 4, 3, 2, 0]]]\n",
      "172 loss:  3.361641211085953e-05 prediction:  [[4 4 3 2 0]] pple! true: [[[4, 4, 3, 2, 0]]]\n",
      "173 loss:  3.359256879775785e-05 prediction:  [[4 4 3 2 0]] pple! true: [[[4, 4, 3, 2, 0]]]\n",
      "174 loss:  3.3497206459287554e-05 prediction:  [[4 4 3 2 0]] pple! true: [[[4, 4, 3, 2, 0]]]\n",
      "175 loss:  3.3497206459287554e-05 prediction:  [[4 4 3 2 0]] pple! true: [[[4, 4, 3, 2, 0]]]\n",
      "176 loss:  3.337800080771558e-05 prediction:  [[4 4 3 2 0]] pple! true: [[[4, 4, 3, 2, 0]]]\n",
      "177 loss:  3.333031781949103e-05 prediction:  [[4 4 3 2 0]] pple! true: [[[4, 4, 3, 2, 0]]]\n",
      "178 loss:  3.3282638469245285e-05 prediction:  [[4 4 3 2 0]] pple! true: [[[4, 4, 3, 2, 0]]]\n",
      "179 loss:  3.3234955481020734e-05 prediction:  [[4 4 3 2 0]] pple! true: [[[4, 4, 3, 2, 0]]]\n",
      "180 loss:  3.318727249279618e-05 prediction:  [[4 4 3 2 0]] pple! true: [[[4, 4, 3, 2, 0]]]\n",
      "181 loss:  3.311574982944876e-05 prediction:  [[4 4 3 2 0]] pple! true: [[[4, 4, 3, 2, 0]]]\n",
      "182 loss:  3.306806684122421e-05 prediction:  [[4 4 3 2 0]] pple! true: [[[4, 4, 3, 2, 0]]]\n",
      "183 loss:  3.302038385299966e-05 prediction:  [[4 4 3 2 0]] pple! true: [[[4, 4, 3, 2, 0]]]\n",
      "184 loss:  3.292502515250817e-05 prediction:  [[4 4 3 2 0]] pple! true: [[[4, 4, 3, 2, 0]]]\n",
      "185 loss:  3.290118183940649e-05 prediction:  [[4 4 3 2 0]] pple! true: [[[4, 4, 3, 2, 0]]]\n",
      "186 loss:  3.282965917605907e-05 prediction:  [[4 4 3 2 0]] pple! true: [[[4, 4, 3, 2, 0]]]\n",
      "187 loss:  3.275813287473284e-05 prediction:  [[4 4 3 2 0]] pple! true: [[[4, 4, 3, 2, 0]]]\n",
      "188 loss:  3.2710449886508286e-05 prediction:  [[4 4 3 2 0]] pple! true: [[[4, 4, 3, 2, 0]]]\n",
      "189 loss:  3.266277053626254e-05 prediction:  [[4 4 3 2 0]] pple! true: [[[4, 4, 3, 2, 0]]]\n",
      "190 loss:  3.261508754803799e-05 prediction:  [[4 4 3 2 0]] pple! true: [[[4, 4, 3, 2, 0]]]\n",
      "191 loss:  3.254356124671176e-05 prediction:  [[4 4 3 2 0]] pple! true: [[[4, 4, 3, 2, 0]]]\n",
      "192 loss:  3.249588189646602e-05 prediction:  [[4 4 3 2 0]] pple! true: [[[4, 4, 3, 2, 0]]]\n",
      "193 loss:  3.244820254622027e-05 prediction:  [[4 4 3 2 0]] pple! true: [[[4, 4, 3, 2, 0]]]\n",
      "194 loss:  3.2400515920016915e-05 prediction:  [[4 4 3 2 0]] pple! true: [[[4, 4, 3, 2, 0]]]\n",
      "195 loss:  3.23289968946483e-05 prediction:  [[4 4 3 2 0]] pple! true: [[[4, 4, 3, 2, 0]]]\n",
      "196 loss:  3.230515721952543e-05 prediction:  [[4 4 3 2 0]] pple! true: [[[4, 4, 3, 2, 0]]]\n",
      "197 loss:  3.2233634556178004e-05 prediction:  [[4 4 3 2 0]] pple! true: [[[4, 4, 3, 2, 0]]]\n",
      "198 loss:  3.216211189283058e-05 prediction:  [[4 4 3 2 0]] pple! true: [[[4, 4, 3, 2, 0]]]\n",
      "199 loss:  3.206674227840267e-05 prediction:  [[4 4 3 2 0]] pple! true: [[[4, 4, 3, 2, 0]]]\n"
     ]
    }
   ],
   "source": [
    "for i in range(200):\n",
    "    optimizer.zero_grad() # optimizer의 gradient를 0으로 초기화\n",
    "    output=model(X) # model에 X를 입력하여 output을 얻음\n",
    "    loss=criterion(output.view(-1, input_size), Y.view(-1)) # output과 Y를 비교하여 loss를 계산\n",
    "    loss.backward() # loss에 대한 gradient를 계산 \n",
    "    optimizer.step() # 계산된 gradient를 이용하여 optimizer를 업데이트\n",
    "\n",
    "    result=output.data.numpy().argmax(axis= -1) # output은 one-hot encoding 형태로 나오기 때문에 argmax를 통해 가장 큰 값의 index를 가져옴\n",
    "    str_result=''.join([index_to_char[c] for c in np.squeeze(result)]) # index_to_char을 이용하여 index에 해당하는 문자를 가져와서 문자열로 변환\n",
    "    \n",
    "    print(i, \"loss: \", loss.item(), \"prediction: \", result, str_result, \"true:\", y_data) # i: epoch, loss: loss값, prediction: 예측값 "
   ]
  },
  {
   "cell_type": "code",
   "execution_count": null,
   "metadata": {},
   "outputs": [],
   "source": []
  }
 ],
 "metadata": {
  "kernelspec": {
   "display_name": "base",
   "language": "python",
   "name": "python3"
  },
  "language_info": {
   "codemirror_mode": {
    "name": "ipython",
    "version": 3
   },
   "file_extension": ".py",
   "mimetype": "text/x-python",
   "name": "python",
   "nbconvert_exporter": "python",
   "pygments_lexer": "ipython3",
   "version": "3.12.7"
  }
 },
 "nbformat": 4,
 "nbformat_minor": 2
}
